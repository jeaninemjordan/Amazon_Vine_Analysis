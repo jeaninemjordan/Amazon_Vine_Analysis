{
 "cells": [
  {
   "cell_type": "code",
   "execution_count": 4,
   "id": "7641663e",
   "metadata": {},
   "outputs": [],
   "source": [
    "from mrjob.job import MRJob"
   ]
  },
  {
   "cell_type": "code",
   "execution_count": 6,
   "id": "6d9402fd",
   "metadata": {},
   "outputs": [],
   "source": [
    "#%%\n",
    "from mrjob.job import MRJob\n",
    "# %%\n",
    "# Create a class called Bacon_count, which inherits, or takes properties, \n",
    "# from the MRJob class. We create this class to be called to run the full \n",
    "# MapReduce job with MRJob\n",
    "class Bacon_count(MRJob):\n",
    "    # create a mapper() function to take (self, _, line) as params\n",
    "    # mapper() function will assign the input to key-value pairs:\n",
    "    def mapper(self, _, line):\n",
    "        # use the Python convention of an underscore to indicate that \n",
    "        # won’t use this param. The line param will be the line of text taken from the raw input file\n",
    "        # The function will loop through each word in the line of text, as described below\n",
    "        # Call the split() method on each line to break the text into a list of words\n",
    "        for word in line.split():\n",
    "            if word.lower() == \"bacon\":  # convert each work to lowercase\n",
    "                # if word matches \"bacon\" return generator object:\n",
    "                yield \"bacon\", 1\n",
    "        # convert each work to lowercase\n",
    "    \n",
    "    # call reducer function\n",
    "    def reducer(self, key, values):\n",
    "        yield key, sum(values)\n",
    "\n"
   ]
  },
  {
   "cell_type": "code",
   "execution_count": 7,
   "id": "86c76c1d",
   "metadata": {},
   "outputs": [
    {
     "name": "stderr",
     "output_type": "stream",
     "text": [
      "usage: ipykernel_launcher.py [options] [input files]\n",
      "ipykernel_launcher.py: error: unrecognized arguments: -f\n"
     ]
    },
    {
     "ename": "SystemExit",
     "evalue": "2",
     "output_type": "error",
     "traceback": [
      "An exception has occurred, use %tb to see the full traceback.\n",
      "\u001b[1;31mSystemExit\u001b[0m\u001b[1;31m:\u001b[0m 2\n"
     ]
    }
   ],
   "source": [
    "# call funtion\n",
    "if __name__ == \"__main__\":\n",
    "   Bacon_count.run()"
   ]
  },
  {
   "cell_type": "code",
   "execution_count": null,
   "id": "e905c9a8",
   "metadata": {},
   "outputs": [],
   "source": []
  },
  {
   "cell_type": "code",
   "execution_count": null,
   "id": "aff932b7",
   "metadata": {},
   "outputs": [],
   "source": []
  },
  {
   "cell_type": "code",
   "execution_count": null,
   "id": "053b568c",
   "metadata": {},
   "outputs": [],
   "source": []
  },
  {
   "cell_type": "code",
   "execution_count": null,
   "id": "fc3b75d2",
   "metadata": {},
   "outputs": [],
   "source": []
  },
  {
   "cell_type": "code",
   "execution_count": null,
   "id": "5cf576ba",
   "metadata": {},
   "outputs": [],
   "source": []
  },
  {
   "cell_type": "code",
   "execution_count": null,
   "id": "c485af9b",
   "metadata": {},
   "outputs": [],
   "source": []
  }
 ],
 "metadata": {
  "kernelspec": {
   "display_name": "Python 3 (ipykernel)",
   "language": "python",
   "name": "python3"
  },
  "language_info": {
   "codemirror_mode": {
    "name": "ipython",
    "version": 3
   },
   "file_extension": ".py",
   "mimetype": "text/x-python",
   "name": "python",
   "nbconvert_exporter": "python",
   "pygments_lexer": "ipython3",
   "version": "3.7.13"
  }
 },
 "nbformat": 4,
 "nbformat_minor": 5
}
